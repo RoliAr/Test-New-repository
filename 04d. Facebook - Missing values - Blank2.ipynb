{
 "cells": [
  {
   "cell_type": "markdown",
   "id": "20f36f28-c8eb-4e21-bed4-1c3c575fc60e",
   "metadata": {},
   "source": [
    "## Read in Libraries"
   ]
  },
  {
   "cell_type": "code",
   "execution_count": 3,
   "id": "32f9b7ac",
   "metadata": {},
   "outputs": [],
   "source": [
    "from datetime import datetime\n",
    "import pandas as pd\n",
    "import numpy as np\n",
    "import warnings\n",
    "\n",
    "warnings.filterwarnings('ignore') "
   ]
  },
  {
   "cell_type": "markdown",
   "id": "ea52a25d-a873-45fc-9c33-332deea00146",
   "metadata": {},
   "source": [
    "## Defining import / export file paths"
   ]
  },
  {
   "cell_type": "code",
   "execution_count": 4,
   "id": "c58e81ce",
   "metadata": {},
   "outputs": [],
   "source": [
    "raw_data_path = r'04a. Facebook - Missing values - Raw data.csv'\n",
    "export_data_path = 'Processed Data/'\n",
    "file_name = 'final_facebook.csv'"
   ]
  },
  {
   "cell_type": "markdown",
   "id": "0357c856",
   "metadata": {},
   "source": [
    "## Read in Facebook/Instagram Spend and Impressions Data"
   ]
  },
  {
   "cell_type": "code",
   "execution_count": 6,
   "id": "8e6e6173",
   "metadata": {},
   "outputs": [
    {
     "data": {
      "text/plain": [
       "week_starting_date     object\n",
       "fbig_spend            float64\n",
       "fbig_imp              float64\n",
       "dtype: object"
      ]
     },
     "execution_count": 6,
     "metadata": {},
     "output_type": "execute_result"
    }
   ],
   "source": [
    "# Read a CSV file from a specified location and store the data in a pandas DataFrame called 'data_for_imputation'.\n",
    "# It will then print the data types of each column in the DataFrame to help understand the structure of the data.\n",
    "\n",
    "data_for_imputation = pd.read_csv(raw_data_path)\n",
    "data_for_imputation.dtypes"
   ]
  },
  {
   "cell_type": "code",
   "execution_count": 65,
   "id": "3e2834b9",
   "metadata": {},
   "outputs": [
    {
     "name": "stdout",
     "output_type": "stream",
     "text": [
      "  week_starting_date  fbig_spend  fbig_imp\n",
      "0         2019-01-07         0.0       0.0\n",
      "1         2019-01-14         0.0       0.0\n",
      "2         2019-01-21         0.0       0.0\n",
      "3         2019-01-28         0.0       0.0\n",
      "4         2019-02-04         0.0       0.0\n",
      "5         2019-02-11         0.0       0.0\n",
      "6         2019-02-18         0.0       0.0\n",
      "7         2019-02-25         0.0       0.0\n",
      "8         2019-03-04         0.0       0.0\n",
      "9         2019-03-11         0.0       0.0\n"
     ]
    }
   ],
   "source": [
    "# Convert the 'week_starting_date' column in the 'data_for_imputation' by dataFrame to a pandas datetime format \n",
    "# using the 'pd.to_datetime' method. This conversion is necessary to perform time-based analysis and modeling on the data. \n",
    "# After this code is executed, the 'week_starting_date' column will be of datetime type, which will enable time-based operations to be performed on it.\n",
    "\n",
    "data_for_imputation['week_starting_date'] = pd.to_datetime(data_for_imputation['week_starting_date'])\n",
    "\n",
    "# The \".head()\" method in pandas is used to print the first few rows of a DataFrame.\n",
    "# By passing the argument \"10\" within the parenthesis, this code specifies to print the first 10 rows of the DataFrame.\n",
    "\n",
    "print(data_for_imputation.head(10))\n"
   ]
  },
  {
   "cell_type": "code",
   "execution_count": 66,
   "id": "1509baee",
   "metadata": {},
   "outputs": [
    {
     "data": {
      "text/html": [
       "<div>\n",
       "<style scoped>\n",
       "    .dataframe tbody tr th:only-of-type {\n",
       "        vertical-align: middle;\n",
       "    }\n",
       "\n",
       "    .dataframe tbody tr th {\n",
       "        vertical-align: top;\n",
       "    }\n",
       "\n",
       "    .dataframe thead th {\n",
       "        text-align: right;\n",
       "    }\n",
       "</style>\n",
       "<table border=\"1\" class=\"dataframe\">\n",
       "  <thead>\n",
       "    <tr style=\"text-align: right;\">\n",
       "      <th></th>\n",
       "      <th>week_starting_date</th>\n",
       "      <th>fbig_spend</th>\n",
       "      <th>fbig_imp</th>\n",
       "    </tr>\n",
       "  </thead>\n",
       "  <tbody>\n",
       "    <tr>\n",
       "      <th>21</th>\n",
       "      <td>2019-06-03</td>\n",
       "      <td>13444.237150</td>\n",
       "      <td>0.0</td>\n",
       "    </tr>\n",
       "    <tr>\n",
       "      <th>22</th>\n",
       "      <td>2019-06-10</td>\n",
       "      <td>17661.095060</td>\n",
       "      <td>0.0</td>\n",
       "    </tr>\n",
       "    <tr>\n",
       "      <th>23</th>\n",
       "      <td>2019-06-17</td>\n",
       "      <td>5969.195235</td>\n",
       "      <td>0.0</td>\n",
       "    </tr>\n",
       "    <tr>\n",
       "      <th>24</th>\n",
       "      <td>2019-06-24</td>\n",
       "      <td>6456.339760</td>\n",
       "      <td>0.0</td>\n",
       "    </tr>\n",
       "  </tbody>\n",
       "</table>\n",
       "</div>"
      ],
      "text/plain": [
       "   week_starting_date    fbig_spend  fbig_imp\n",
       "21         2019-06-03  13444.237150       0.0\n",
       "22         2019-06-10  17661.095060       0.0\n",
       "23         2019-06-17   5969.195235       0.0\n",
       "24         2019-06-24   6456.339760       0.0"
      ]
     },
     "execution_count": 66,
     "metadata": {},
     "output_type": "execute_result"
    }
   ],
   "source": [
    "# Filter the 'data_for_imputation' DataFrame and select rows where the 'fbig_spend' column has a value greater than zero \n",
    "# The 'fbig_imp' column has a value of zero. \n",
    "# The 'loc' method is used to locate the rows in the DataFrame that satisfy the given conditions. \n",
    "# The '&' symbol between the two conditions represents the 'and' operator, which means that both conditions must be true for a row to be selected. \n",
    "# This code is useful for finding cases where there is spending on Facebook ads, but there are no impressions, which could indicate an issue with the ad campaign or tracking.\n",
    "\n",
    "data_for_imputation.loc[(data_for_imputation['fbig_spend']>0)&\n",
    "                                               (data_for_imputation['fbig_imp']==0)]"
   ]
  },
  {
   "cell_type": "markdown",
   "id": "c23e2ac3",
   "metadata": {},
   "source": [
    "## Use Overall cost per impression to impute missing impression values"
   ]
  },
  {
   "cell_type": "code",
   "execution_count": 67,
   "id": "a172bdcf",
   "metadata": {},
   "outputs": [
    {
     "name": "stdout",
     "output_type": "stream",
     "text": [
      "Cost per Impression : 0.006257490152210633\n"
     ]
    }
   ],
   "source": [
    "# The Python code in the above cell performs the following steps:\n",
    "\n",
    "# It filters the 'data_for_imputation' DataFrame to select only the rows where there are both Facebook ad impressions and spending. The resulting DataFrame is stored in the 'data_for_imputation_filtered' variable.\n",
    "# It calculates the cost per impression (CPI) for the filtered data by summing the 'fbig_spend' column and dividing it by the sum of the 'fbig_imp' column. The result is stored in the 'cost_per_imp_for_imputation' variable.\n",
    "# It prints the CPI for the filtered data to the console.\n",
    "# This code is useful for calculating the average cost per impression for a Facebook ad campaign, which can help to evaluate the effectiveness of the campaign and make decisions about future ad spend. \n",
    "\n",
    "data_for_imputation_filtered = (data_for_imputation.loc[(data_for_imputation['fbig_imp']>0)&\n",
    "                                                            (data_for_imputation['fbig_spend']>0)])\n",
    "\n",
    "\n",
    "cost_per_imp_for_imputation = (data_for_imputation_filtered['fbig_spend'].sum()/\n",
    "             data_for_imputation_filtered['fbig_imp'].sum()\n",
    "            )\n",
    "\n",
    "print('Cost per Impression : ' + str(cost_per_imp_for_imputation))"
   ]
  },
  {
   "cell_type": "code",
   "execution_count": 69,
   "id": "c21dbf0d",
   "metadata": {},
   "outputs": [],
   "source": [
    "#The code in this cell is intended to create a new column called fbig_imp in the data_for_imputation dataframe.\n",
    "# The values of the fbig_imp column are calculated using numpy.where() function. \n",
    "# If the value in fbig_spend column is greater than 0 and the value in the fbig_imp column is 0, then the value in fbig_spend column is divided by cost_per_imp_for_imputation and used as the value for fbig_imp column. Otherwise, the value in the fbig_imp column is retained. The code then sets the index of the data_for_imputation dataframe to week_starting_date.\n",
    "\n",
    "data_for_imputation['fbig_imp'] = (np.where((data_for_imputation['fbig_spend']>0)\n",
    "                                                                          & (data_for_imputation['fbig_imp']==0),\n",
    "                                                                           data_for_imputation['fbig_spend']/cost_per_imp_for_imputation,\n",
    "                                                                           data_for_imputation['fbig_imp']\n",
    "                                                                 )\n",
    "                                                                 )\n",
    "\n",
    "\n",
    "data_for_imputation = data_for_imputation.set_index('week_starting_date')"
   ]
  },
  {
   "cell_type": "code",
   "execution_count": 7,
   "id": "bb0a04ab",
   "metadata": {},
   "outputs": [
    {
     "data": {
      "text/html": [
       "<div>\n",
       "<style scoped>\n",
       "    .dataframe tbody tr th:only-of-type {\n",
       "        vertical-align: middle;\n",
       "    }\n",
       "\n",
       "    .dataframe tbody tr th {\n",
       "        vertical-align: top;\n",
       "    }\n",
       "\n",
       "    .dataframe thead th {\n",
       "        text-align: right;\n",
       "    }\n",
       "</style>\n",
       "<table border=\"1\" class=\"dataframe\">\n",
       "  <thead>\n",
       "    <tr style=\"text-align: right;\">\n",
       "      <th></th>\n",
       "      <th>week_starting_date</th>\n",
       "      <th>fbig_spend</th>\n",
       "      <th>fbig_imp</th>\n",
       "    </tr>\n",
       "  </thead>\n",
       "  <tbody>\n",
       "    <tr>\n",
       "      <th>21</th>\n",
       "      <td>6/3/2019</td>\n",
       "      <td>13444.237150</td>\n",
       "      <td>0.0</td>\n",
       "    </tr>\n",
       "    <tr>\n",
       "      <th>22</th>\n",
       "      <td>6/10/2019</td>\n",
       "      <td>17661.095060</td>\n",
       "      <td>0.0</td>\n",
       "    </tr>\n",
       "    <tr>\n",
       "      <th>23</th>\n",
       "      <td>6/17/2019</td>\n",
       "      <td>5969.195235</td>\n",
       "      <td>0.0</td>\n",
       "    </tr>\n",
       "    <tr>\n",
       "      <th>24</th>\n",
       "      <td>6/24/2019</td>\n",
       "      <td>6456.339760</td>\n",
       "      <td>0.0</td>\n",
       "    </tr>\n",
       "  </tbody>\n",
       "</table>\n",
       "</div>"
      ],
      "text/plain": [
       "   week_starting_date    fbig_spend  fbig_imp\n",
       "21           6/3/2019  13444.237150       0.0\n",
       "22          6/10/2019  17661.095060       0.0\n",
       "23          6/17/2019   5969.195235       0.0\n",
       "24          6/24/2019   6456.339760       0.0"
      ]
     },
     "execution_count": 7,
     "metadata": {},
     "output_type": "execute_result"
    }
   ],
   "source": [
    "# Select rows from the data_for_imputation DataFrame where the value of the fbig_spend column is greater than 0 and the value of the fbig_imp column is 0. \n",
    "# This can be used to identify entries where there was a significant spend on Facebook ads but no corresponding impressions were recorded.\n",
    "\n",
    "data_for_imputation.loc[(data_for_imputation['fbig_spend']>0)&\n",
    "                                               (data_for_imputation['fbig_imp']==0)]"
   ]
  },
  {
   "cell_type": "code",
   "execution_count": 72,
   "id": "ad7f309e",
   "metadata": {},
   "outputs": [
    {
     "name": "stdout",
     "output_type": "stream",
     "text": [
      "Total Spend : 3271267.472244\n"
     ]
    }
   ],
   "source": [
    "# #This code is printing the total spend in the \"fbig_spend\" column of the \"data_for_imputation\" DataFrame. \n",
    "# It does this by using the sum() function to calculate the sum of all values in the \"fbig_spend\" column and then concatenating it to a string to display the result using the print() function.\n",
    "\n",
    "print('Total Spend : ' + str(data_for_imputation['fbig_spend'].sum()))"
   ]
  },
  {
   "cell_type": "code",
   "execution_count": 73,
   "id": "2b1d5021-7469-4710-a6aa-80ae9f7a1aa0",
   "metadata": {},
   "outputs": [
    {
     "name": "stdout",
     "output_type": "stream",
     "text": [
      "Total Impressions : 522776287.7242937\n"
     ]
    }
   ],
   "source": [
    "# #This code is printing the total spend in the \"fbig_imp\" column of the \"data_for_imputation\" DataFrame. \n",
    "# It does this by using the sum() function to calculate the sum of all values in the \"fbig_imp\" column and then concatenating it to a string to display the result using the print() function.\n",
    "\n",
    "print('Total Impressions : ' + str(data_for_imputation['fbig_imp'].sum()))"
   ]
  },
  {
   "cell_type": "markdown",
   "id": "cadfd2ee-23a3-451a-81f9-d31d8a10645e",
   "metadata": {},
   "source": [
    "## Export processed data"
   ]
  },
  {
   "cell_type": "code",
   "execution_count": 8,
   "id": "c77874de",
   "metadata": {},
   "outputs": [],
   "source": [
    "# This code exports the processed data stored in the data_for_imputation dataframe to a CSV file named final_facebook.csv in the Processed Data/ directory.\n",
    "\n",
    "data_for_imputation.to_csv(export_data_path + file_name)"
   ]
  }
 ],
 "metadata": {
  "kernelspec": {
   "display_name": "Python 3 (ipykernel)",
   "language": "python",
   "name": "python3"
  },
  "language_info": {
   "codemirror_mode": {
    "name": "ipython",
    "version": 3
   },
   "file_extension": ".py",
   "mimetype": "text/x-python",
   "name": "python",
   "nbconvert_exporter": "python",
   "pygments_lexer": "ipython3",
   "version": "3.9.12"
  },
  "vscode": {
   "interpreter": {
    "hash": "829f8a924dbb286848138480efde3b946ad773cb919de7a1afee309cd95525df"
   }
  }
 },
 "nbformat": 4,
 "nbformat_minor": 5
}
