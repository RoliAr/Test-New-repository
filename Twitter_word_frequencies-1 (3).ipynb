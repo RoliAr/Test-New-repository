{
 "cells": [
  {
   "cell_type": "code",
   "execution_count": 1,
   "metadata": {},
   "outputs": [],
   "source": [
    "import tweepy\n",
    "from textblob import TextBlob\n",
    "import matplotlib.pyplot as plt\n",
    "import seaborn as sns\n",
    "import pandas as pd\n",
    "import itertools\n",
    "import collections"
   ]
  },
  {
   "cell_type": "code",
   "execution_count": 2,
   "metadata": {},
   "outputs": [],
   "source": [
    "#helping set up the plot background\n",
    "sns.set(font_scale=1.5)\n",
    "sns.set_style(\"whitegrid\")"
   ]
  },
  {
   "cell_type": "code",
   "execution_count": 3,
   "metadata": {},
   "outputs": [],
   "source": [
    "# Step 1 - Authenticate\n",
    "consumer_key = 'fWBQJWnNTqPyOw4uEVU315MxB'\n",
    "consumer_secret = 'Ci6vbxzOsQ9Cwr1X5PuDyQ9aQNRylPfg4JRCSCMMDOgtQ85PBT'\n",
    "\n",
    "access_token = '1050046371737296896-eB8yZPHSEFRflTCPFJpLeGWiL35Vpg'\n",
    "access_token_secret = 'ecc3Rk2Fd891VSyZv4Ba2ZKzwF9Wsa2i7RkMRV5c7NZb6'\n",
    "\n",
    "auth = tweepy.OAuthHandler(consumer_key, consumer_secret)\n",
    "auth.set_access_token(access_token, access_token_secret)\n",
    "\n",
    "api = tweepy.API(auth)\n"
   ]
  },
  {
   "cell_type": "code",
   "execution_count": 4,
   "metadata": {},
   "outputs": [
    {
     "name": "stdout",
     "output_type": "stream",
     "text": [
      "RT @RSBNetwork: President Trump sends a message to the Canadian truckers: \"We are with them all the way!\" https://t.co/6DKHvOsGzo\n",
      "Sentiment(polarity=0.0, subjectivity=0.0)\n",
      "\n",
      "RT @catfishyak: I can’t believe that Fulton County has had to ask for help from the FBI after Trump called for violence if he’s indicted. W…\n",
      "Sentiment(polarity=0.0, subjectivity=0.0)\n",
      "\n",
      "RT @tribelaw: “Former President Donald Trump on Sunday admitted in a written statement that he wanted his former Vice President Mike Pence…\n",
      "Sentiment(polarity=0.0, subjectivity=0.0)\n",
      "\n",
      "RT @STPFreak: I'm really not in the mood for any of that Merrick Garland is doing his job crapola today as Trump riles up his cult mob.…\n",
      "Sentiment(polarity=-0.1, subjectivity=0.2)\n",
      "\n",
      "RT @tribelaw: He’s daring AG Garland to do his duty. I know Merrick Garland well enough to say: Trump’s is the dumbest strategy imaginable.\n",
      "Sentiment(polarity=0.0, subjectivity=0.5)\n",
      "\n",
      "RT @tribelaw: He’s daring AG Garland to do his duty. I know Merrick Garland well enough to say: Trump’s is the dumbest strategy imaginable.\n",
      "Sentiment(polarity=0.0, subjectivity=0.5)\n",
      "\n",
      "RT @prchovanec: Trump threatens insurrection if he is charged for threatening insurrection.\n",
      "Sentiment(polarity=0.0, subjectivity=0.0)\n",
      "\n",
      "RT @DeanObeidallah: Reminder: The DOJ investigated Hillary Clinton over her emails. In contrast, Trump orchestrated a failed coup attempt a…\n",
      "Sentiment(polarity=-0.5, subjectivity=0.3)\n",
      "\n",
      "RT @BeingJWood: Republicans are critical of Biden choosing his Supreme Court nominee from a list of only black women but had no problem wit…\n",
      "Sentiment(polarity=-0.05555555555555555, subjectivity=0.7444444444444445)\n",
      "\n",
      "RT @votevets: Trump keeps telling us what he’s going to do and has done, and he will do so until he’s held accountable and faces consequenc…\n",
      "Sentiment(polarity=0.0, subjectivity=0.0)\n",
      "\n",
      "RT @duty2warn: After Trump's daily delusional diatribe today, I find myself wishing Mike Pence would issue an appropriate rebuttal statemen…\n",
      "Sentiment(polarity=0.25, subjectivity=0.25)\n",
      "\n",
      "RT @duty2warn: During the first impeachment of TFG, Adam Schiff gave a closing speech that was one for the ages. He warned that an acquitta…\n",
      "Sentiment(polarity=0.25, subjectivity=0.3333333333333333)\n",
      "\n",
      "RT @OccupyDemocrats: BREAKING: The Georgia District Attorney investigating Trump’s attempted election theft responds to Trump’s “protest” t…\n",
      "Sentiment(polarity=0.0, subjectivity=0.0)\n",
      "\n",
      "RT @cwebbonline: Trump posted a written statement yesterday admitting to trying to overturn the 2020 election. It should be a headline stor…\n",
      "Sentiment(polarity=0.0, subjectivity=0.0)\n",
      "\n",
      "RT @OccupyDemocrats: BREAKING: Iconic Federal Prosecutor demands that the January 6 Committee begin “playing hardball” by criminally chargi…\n",
      "Sentiment(polarity=0.04999999999999999, subjectivity=0.525)\n",
      "\n"
     ]
    }
   ],
   "source": [
    "# Step 3 - Retrieve Tweets\n",
    "public_tweets = api.search('Trump')\n",
    "\n",
    "# Step 4 - print the tweets, for fun to go through them.\n",
    "for tweet in public_tweets:\n",
    "    print(tweet.text)\n",
    "\n",
    "    # Step 4 Perform Sentiment Analysis on Tweets\n",
    "    analysis = TextBlob(tweet.text)\n",
    "    print(analysis.sentiment)\n",
    "    print(\"\")"
   ]
  },
  {
   "cell_type": "code",
   "execution_count": 5,
   "metadata": {},
   "outputs": [],
   "source": [
    "#Create your list of all the tweet texts\n",
    "all_tweets = [tweet.text for tweet in public_tweets]\n",
    "#['I like Joe', 'I voted']\n",
    "# List of all words across tweets"
   ]
  },
  {
   "cell_type": "code",
   "execution_count": 6,
   "metadata": {},
   "outputs": [],
   "source": [
    "words_in_tweet = [tweet.lower().split() for tweet in all_tweets]\n",
    "#[['i', 'like','joe'], ['i', 'voted']]"
   ]
  },
  {
   "cell_type": "code",
   "execution_count": 7,
   "metadata": {},
   "outputs": [],
   "source": [
    "all_words = list(itertools.chain(*words_in_tweet))\n",
    "#['i','like','joe','i','voted']"
   ]
  },
  {
   "cell_type": "code",
   "execution_count": 8,
   "metadata": {},
   "outputs": [
    {
     "name": "stdout",
     "output_type": "stream",
     "text": [
      "[('rt', 15), ('the', 12), ('to', 10), ('trump', 8), ('a', 7), ('that', 6), ('his', 6), ('for', 5), ('he’s', 5), ('garland', 5), ('i', 4), ('he', 4), ('of', 4), ('is', 4), ('do', 4)]\n",
      "   words  count\n",
      "0     rt     15\n",
      "1    the     12\n",
      "2     to     10\n",
      "3  trump      8\n",
      "4      a      7\n"
     ]
    }
   ],
   "source": [
    "# Create counter\n",
    "counts_words = collections.Counter(all_words)\n",
    "print(counts_words.most_common(15))\n",
    "\n",
    "words_tweets = pd.DataFrame(counts_words.most_common(15),\n",
    "                             columns=['words', 'count'])\n",
    "\n",
    "print(words_tweets.head())"
   ]
  },
  {
   "cell_type": "code",
   "execution_count": 9,
   "metadata": {},
   "outputs": [
    {
     "data": {
      "image/png": "[encoded data removed]",
      "text/plain": [
       "<Figure size 576x576 with 1 Axes>"
      ]
     },
     "metadata": {},
     "output_type": "display_data"
    }
   ],
   "source": [
    "fig, ax = plt.subplots(figsize=(8, 8))\n",
    "\n",
    "# Plot horizontal bar graph\n",
    "words_tweets.sort_values(by='count').plot.barh(x='words',\n",
    "                      y='count',\n",
    "                      ax=ax,\n",
    "                      color=\"purple\")\n",
    "\n",
    "ax.set_title(\"Common Words Found in Tweets (Including All Words)\")\n",
    "\n",
    "plt.show()"
   ]
  },
  {
   "cell_type": "code",
   "execution_count": null,
   "metadata": {},
   "outputs": [],
   "source": []
  }
 ],
 "metadata": {
  "kernelspec": {
   "display_name": "Python 3 (ipykernel)",
   "language": "python",
   "name": "python3"
  },
  "language_info": {
   "codemirror_mode": {
    "name": "ipython",
    "version": 3
   },
   "file_extension": ".py",
   "mimetype": "text/x-python",
   "name": "python",
   "nbconvert_exporter": "python",
   "pygments_lexer": "ipython3",
   "version": "3.9.12"
  }
 },
 "nbformat": 4,
 "nbformat_minor": 4
}
